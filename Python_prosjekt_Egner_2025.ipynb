{
 "cells": [
  {
   "cell_type": "markdown",
   "id": "bef1e44c-9693-4dda-bdea-dcf496170817",
   "metadata": {},
   "source": [
    "<h1>Prosjektoppgave \"Morse support\" Marit Egner Python</h1>"
   ]
  },
  {
   "cell_type": "markdown",
   "id": "d4328a10-3a2a-4059-ac8b-cf66c94083e3",
   "metadata": {},
   "source": [
    "<h2>Del a) Lese filen fra Excel til Python</h2>"
   ]
  },
  {
   "cell_type": "code",
   "execution_count": 69,
   "id": "e389a9d3-3d7c-489b-98eb-17645dd42124",
   "metadata": {},
   "outputs": [],
   "source": [
    "import pandas as pd # importerer nødvendige pakker\n",
    "import numpy as np\n",
    "\n",
    "file = 'support_uke_24.xlsx' # filen som skal leses\n",
    "data = pd.read_excel(file)\n",
    "\n",
    "u_dag = data['Ukedag'].values\n",
    "kl_slett = data['Klokkeslett'].values\n",
    "varighet = data['Varighet'].values\n",
    "score = data['Tilfredshet'].values\n",
    "\n",
    "#Jeg testet at alle dataene var kommet over med print-test\n",
    "#print(u_dag)\n",
    "# print(kl_slett)\n",
    "# print(varighet)\n",
    "# print(score) Merk! Der det mangler data sår det 'nan'\n",
    "\n",
    "# print(type(u_dag)) # Jeg sjekker at formatet er arrays, og det er \"numpy.ndarray\", som bør fungere fint\n"
   ]
  },
  {
   "cell_type": "markdown",
   "id": "cc16738c-eb2a-45a1-a657-788bb841d3f7",
   "metadata": {},
   "source": [
    "<h2>Del b) Antall henvendelser for hver ukedag med søylediagram</h2>"
   ]
  },
  {
   "cell_type": "code",
   "execution_count": 11,
   "id": "8750ccf8-dd69-4002-a6de-5d6c3c956e3e",
   "metadata": {},
   "outputs": [
    {
     "name": "stdout",
     "output_type": "stream",
     "text": [
      "Mandag : 51\n",
      "Tirsdag : 44\n",
      "Onsdag : 45\n",
      "Torsdag : 35\n",
      "Fredag : 42\n",
      "[dict_values([51, 44, 45, 35, 42])]\n"
     ]
    },
    {
     "data": {
      "image/png": "[encoded data removed]",
      "text/plain": [
       "<Figure size 1200x900 with 1 Axes>"
      ]
     },
     "metadata": {},
     "output_type": "display_data"
    }
   ],
   "source": [
    "#Skriv et program som finner antall henvendelser for hver de 5 ukedagene. Resultatet visualiseres ved bruk av et søylediagram (stolpediagram).\n",
    "import pandas as pd\n",
    "import numpy as np\n",
    "import matplotlib.pyplot as plt\n",
    "\n",
    "file = 'support_uke_24.xlsx' # filen som skal leses\n",
    "\n",
    "data = pd.read_excel(file) # dataene fra excel-filen\n",
    "u_dag = data['Ukedag'].values # array med ukedagene fra excelfilen\n",
    "dag = ['mandag', 'tirsdag', 'onsdag', 'torsdag', 'fredag'] # definerer en liste med de aktuelle ukedagene jeg skal se etter\n",
    "\n",
    "antall = {d: np.sum(u_dag == d) for d in u_dag} # En bolsk array som sjekker om hvert element fra u_dag er utvalgt dag (True/False) lært fra KI\n",
    "\n",
    "for d, count in antall.items(): # En forløkke som teller antall forekomster av hver dag og gir par av nøkkel og verdi (d er dag og count er forekomster)\n",
    "    print(d,':', count) # svaret på antall henvendelser per dag\n",
    "\n",
    "# Så skal jeg lage et søylediagram\n",
    "\n",
    "dag = ['mandag', 'tirsdag', 'onsdag', 'torsdag', 'fredag']\n",
    "#antall = [{d: np.sum(u_dag == d) for d in dag}] # Her er dette en dictionary som ikke kan brukes til et diagram\n",
    "\n",
    "verdier = [dict.values(antall)] # Liste med verdiene fra dictionaryen antall\n",
    "print(verdier) # print test\n",
    "\n",
    "# Jeg fikk ikke til å overføre dictionaryen min til et format som jeg kunne bruke til søylediagrammet, så jeg laget en ny liste med de faktiske verdiene\n",
    "\n",
    "henvendelser = [51, 44, 45, 35, 42]\n",
    "\n",
    "plt.figure(1, figsize=(12,9))\n",
    "\n",
    "plt.bar(dag, henvendelser, width=0.9, color=('yellow', 'green', 'blue', 'purple', 'red')) # variabler pluss definerer utseende\n",
    "\n",
    "#plt.ylim(0, max(verdier) + 5) # Tilpasser området for verdiene på y-aksen\n",
    "\n",
    "plt.title('Antall henvendelser per dag')\n",
    "plt.xlabel('Ukedag')\n",
    "plt.ylabel('Antall') \n",
    "\n",
    "plt.savefig('diagram_henvendelser.pdf')\n",
    "plt.show()\n"
   ]
  },
  {
   "cell_type": "markdown",
   "id": "8c440599-b299-4240-83a7-5a84e06d136c",
   "metadata": {},
   "source": [
    "<h2>Del C Minste og lengste samtaletid</h2>"
   ]
  },
  {
   "cell_type": "code",
   "execution_count": 21,
   "id": "5c3b73c4-0fb7-413a-b75b-adfa794614b1",
   "metadata": {},
   "outputs": [
    {
     "name": "stdout",
     "output_type": "stream",
     "text": [
      "Minste varighet på en supportsamtale i uke 24 var: 00:00:59 på formatet tt:mm:ss.\n",
      "Lengste varighet på en supportsamtale i uke 24  var: 00:11:28 på formatet tt:mm:ss.\n"
     ]
    }
   ],
   "source": [
    "#Del c) Skriv et program som finner minste og lengste samtaletid som er loggført for uke 24.\n",
    "#Svaret skrives til skjerm med informativ tekst. \n",
    "\n",
    "import pandas as pd # importerer nødvendige pakker\n",
    "import numpy as np\n",
    "\n",
    "file = 'support_uke_24.xlsx' # filen som skal leses\n",
    "data = pd.read_excel(file)\n",
    "\n",
    "u_dag = data['Ukedag'].values\n",
    "kl_slett = data['Klokkeslett'].values\n",
    "varighet = data['Varighet'].values\n",
    "score = data['Tilfredshet'].values\n",
    "\n",
    "Minste_varighet = min(varighet)\n",
    "print('Minste varighet på en supportsamtale i uke 24 var:', Minste_varighet, 'på formatet tt:mm:ss.')\n",
    "\n",
    "Lengste_varighet = max(varighet)\n",
    "print('Lengste varighet på en supportsamtale i uke 24  var:',Lengste_varighet, 'på formatet tt:mm:ss.') \n",
    "\n",
    "#Logisk test: Det virker rimelig at minste varighet er et svært lite tall og lengste er et stort tall"
   ]
  },
  {
   "cell_type": "markdown",
   "id": "a7b27943-a182-486e-b34f-70ce7783f5c1",
   "metadata": {},
   "source": [
    "<h2>Del D Gjennomsnittlig samtaletid</h2>"
   ]
  },
  {
   "cell_type": "code",
   "execution_count": 45,
   "id": "a4cc3312-f3ba-4175-bfe3-8fa2ad75c83c",
   "metadata": {},
   "outputs": [
    {
     "name": "stdout",
     "output_type": "stream",
     "text": [
      "Antall sekunder: 400.00921658986175\n",
      "Gjennomsnittlig varighet på samtalene var: 00:06:40\n"
     ]
    }
   ],
   "source": [
    "#Del d) KREVENDE: Skriv et program som regner ut gjennomsnittlig samtaletid basert på alle\n",
    "#henvendelser i uke 24.\n",
    "import pandas as pd # importerer nødvendige pakker\n",
    "import numpy as np\n",
    "\n",
    "file = 'support_uke_24.xlsx' # filen som skal leses\n",
    "data = pd.read_excel(file)\n",
    "\n",
    "#varighet = data['Varighet'].values\n",
    "\n",
    "if 'Varighet' in data.columns: # Ser etter om det finnes en kolonne med navnet Varighet\n",
    "    def tid_til_sekunder(tid):\n",
    "        try:\n",
    "            h,m,s = map(int, tid.split(':'))\n",
    "            return h*3600 + m*60 + s\n",
    "        except ValueError:\n",
    "            return None # Gir None hvis det er feil format\n",
    "    data['varighet_i_sekunder'] = data['Varighet'].apply(tid_til_sekunder)#Bruker funksjonen for å gjøre om til sekunder på kolonnen 'Varighet'\n",
    "    data = data.dropna(subset = ['varighet_i_sekunder'])\n",
    "    Gjennomsnitt_varighet = data['varighet_i_sekunder'].mean() # Beregner gj.snitt. antall sekunder\n",
    "    print('Antall sekunder:',Gjennomsnitt_varighet) # printtest antall sekunder\n",
    "\n",
    "    def sekunder_til_tid(sek):\n",
    "        h = sek // 3600 # Finner antall hele timer\n",
    "        m = (sek % 3600) // 60 # bruker modulus og rest til å finne antall minutter\n",
    "        s = sek % 60 # bruker modulus til å gi antall resterende sek\n",
    "        return f'{int(h):02}:{int(m):02}:{int(s):02}'\n",
    "    gjennomsnitt_tid = sekunder_til_tid(Gjennomsnitt_varighet)\n",
    "    print(f'Gjennomsnittlig varighet på samtalene var: {gjennomsnitt_tid}')\n",
    "\n",
    "#Logisk test: Det virker rimelig at gjennomsnittslengden er omtrent midt i mellom korteste og lengste taletid fra forrige oppgave"
   ]
  },
  {
   "cell_type": "markdown",
   "id": "995450be-d6fe-45f4-b2a3-8113a38cb175",
   "metadata": {},
   "source": [
    "<h2>Del E Fordeling av henvendelser gjennom dagen</h2>"
   ]
  },
  {
   "cell_type": "code",
   "execution_count": 71,
   "id": "56c96479-f882-4fbe-96b0-f0b25e5cc9b4",
   "metadata": {},
   "outputs": [
    {
     "data": {
      "text/plain": [
       "'\\nDel e) Supportvaktene i MORSE er delt inn i 2-timers bolker: kl 08-10, kl 10-12, kl 12-14 og kl\\n14-16. Skriv et program som finner det totale antall henvendelser supportavdelingen mottok\\nfor hver av tidsrommene 08-10, 10-12, 12-14 og 14-16 for uke 24. Resultatet visualiseres ved\\nbruk av et sektordiagram (kakediagram).\\n'"
      ]
     },
     "execution_count": 71,
     "metadata": {},
     "output_type": "execute_result"
    }
   ],
   "source": [
    "'''\n",
    "Del e) Supportvaktene i MORSE er delt inn i 2-timers bolker: kl 08-10, kl 10-12, kl 12-14 og kl\n",
    "14-16. Skriv et program som finner det totale antall henvendelser supportavdelingen mottok\n",
    "for hver av tidsrommene 08-10, 10-12, 12-14 og 14-16 for uke 24. Resultatet visualiseres ved\n",
    "bruk av et sektordiagram (kakediagram).\n",
    "'''\n",
    "# Jeg vil bruke arrayen kl_slett og finne antall som plasserer seg i hvert intervall, uavhengig av dag.\n",
    "\n"
   ]
  },
  {
   "cell_type": "code",
   "execution_count": 121,
   "id": "adadbbc0-3158-4695-8f85-e9d259d0d444",
   "metadata": {},
   "outputs": [
    {
     "name": "stdout",
     "output_type": "stream",
     "text": [
      "Antall henvendelser i absolutte tall:\n",
      "Antall henvendelser kl 08:00–10:00: 98\n",
      "Antall henvendelser kl 10:00–12:00: 40\n",
      "Antall henvendelser kl 12:00–14:00: 45\n",
      "Antall henvendelser kl 14:00–16:00: 34\n"
     ]
    },
    {
     "name": "stderr",
     "output_type": "stream",
     "text": [
      "C:\\Users\\mareg\\AppData\\Local\\Temp\\ipykernel_22512\\2735289199.py:12: UserWarning: Could not infer format, so each element will be parsed individually, falling back to `dateutil`. To ensure parsing is consistent and as-expected, please specify a format.\n",
      "  data['Klokkeslett'] = pd.to_datetime(data['Klokkeslett']).dt.time # Gjør om til tidsobjekter\n"
     ]
    },
    {
     "data": {
      "image/png": "[encoded data removed]",
      "text/plain": [
       "<Figure size 640x480 with 1 Axes>"
      ]
     },
     "metadata": {},
     "output_type": "display_data"
    }
   ],
   "source": [
    "import pandas as pd # importerer nødvendige pakker\n",
    "import numpy as np\n",
    "from datetime import time\n",
    "import matplotlib.pyplot as plt\n",
    "\n",
    "file = 'support_uke_24.xlsx' # filen som skal leses\n",
    "data = pd.read_excel(file)\n",
    "\n",
    "kl_slett = data['Klokkeslett'].values\n",
    "#print(kl_slett)  Tester at jeg har tilgang på alle klokkeslettene\n",
    "\n",
    "data['Klokkeslett'] = pd.to_datetime(data['Klokkeslett']).dt.time # Gjør om til tidsobjekter\n",
    "#print(data) #Tester at jeg får ut tidsobjektene\n",
    "\n",
    "# definerer tidsintervaller:\n",
    "tidsintervaller = [\n",
    "    (time(8,0), time(10,0)),\n",
    "    (time(10,0), time(12,0)),\n",
    "    (time(12,0), time(14,0)),\n",
    "    (time(14,0), time(16,0))\n",
    "]\n",
    "# Jeg går gjennom alle henvendlesene og sorterer i de definerte tidsrommene\n",
    "print('Antall henvendelser i absolutte tall:')\n",
    "for start, slutt in tidsintervaller:\n",
    "    antall_henvendelser = len(data[(data['Klokkeslett'] >= start) & (data['Klokkeslett'] < slutt)]) # finner antall forekomster med bruk av len\n",
    "    print(f\"Antall henvendelser kl {start.strftime('%H:%M')}–{slutt.strftime('%H:%M')}: {antall_henvendelser}\") # skriver ut liste med antall henvendelser\n",
    "\n",
    "# So far, so good. Jeg får skrevet ut en liste over antall henvendelser i hver periode. For å lage diagrammet bruker jeg bare verdiene, som i del B. \n",
    "\n",
    "antall_henvendelser = [98,40,45,34]\n",
    "Tidsrom = ('kl. 8-10', 'kl. 10-12', 'kl. 12-14', 'kl. 14-16')\n",
    "\n",
    "plt.pie(antall_henvendelser, labels = Tidsrom, autopct = '%1.1f%%') # Beskriver sektordiagrammmetmed variabel og bruk av prosent\n",
    "\n",
    "plt.title('Andel henvendelser per tidsrom på dagen') # Gir tittel\n",
    "\n",
    "plt.savefig('pie_henvendelser.pdf') # Lagrer diagrmmet\n",
    "plt.show() # Viser diagrammet\n",
    "\n",
    "# Oppgaven ber om totalt antall, men jeg synes det er bedre å visualisere med prosent i kakediagrammet. Jeg har derfor valgt å oppgi begge.\n",
    "# Logisk test: andel og absolutte tall virker rimelige i forhold til hverandre"
   ]
  },
  {
   "cell_type": "markdown",
   "id": "7c0a22a5-581e-44a5-be70-0f0e9dda46c2",
   "metadata": {},
   "source": [
    "<h2>Del F Kundetilfredshet</h2>"
   ]
  },
  {
   "cell_type": "code",
   "execution_count": 127,
   "id": "d69e07e5-adef-4aa9-a753-a9c34b88fb51",
   "metadata": {},
   "outputs": [
    {
     "name": "stdout",
     "output_type": "stream",
     "text": [
      "23.25581395348837 65.11627906976744\n",
      "Net Promoter Score (NPS) for firmaet MORSE er 41.9\n"
     ]
    }
   ],
   "source": [
    "#Lag et program som regner ut supportavdelings NPS og skriver svaret til skjerm. \n",
    "#Merk: Kunder som ikke har gitt tilbakemelding på tilfredshet, skal utelates fra utregningene\n",
    "\n",
    "import pandas as pd # importerer nødvendige pakker\n",
    "import numpy as np\n",
    "\n",
    "file = 'support_uke_24.xlsx' # filen som skal leses\n",
    "data = pd.read_excel(file)\n",
    "\n",
    "besvart_score = data['Tilfredshet'].dropna().values # Med dropna() fjerner jeg alle som ikke har svart\n",
    "#print(besvart_score) #printtest for å se at nan er borte\n",
    "\n",
    "negativ = np.sum((1 <= besvart_score) & (besvart_score <= 6)) # Antall forekomster i intervall 1-6 som er negative\n",
    "noytral = np.sum((7 <= besvart_score) & (besvart_score <= 8)) # Antall forekomster i intervall 7-8 som er nøytrale\n",
    "positiv = np.sum((9<= besvart_score) & (besvart_score <= 10)) # Antall forekomster i intervall 9-10 som er positive\n",
    "total_svar = len(data['Tilfredshet'].dropna().values) # Teller totalt antall svar\n",
    "#print(negativ)\n",
    "#print(noytral)\n",
    "#print(positiv)\n",
    "#print(total_svar) # Test: Totalt antall svar stemmer med summen av de tre kategoriene\n",
    "\n",
    "#Net promoter score forkortes (NPS)\n",
    "\n",
    "prosent_negativ = (negativ / total_svar)*100 # Gjør om svarene til prosent\n",
    "prosent_positiv = (positiv / total_svar)*100\n",
    "#print(prosent_negativ, prosent_positiv)\n",
    "NPS = round((prosent_positiv - prosent_negativ),1) # Har fått oppgitt formel NPS = %positive - %negative for å finne NPS og har rundet av svaret\n",
    "print('Net Promoter Score (NPS) for firmaet MORSE er', NPS)\n",
    "# Logisk test: Svaret mitt er i omtrent i samme område som eksempelet, og virker riktig ut fra antall og andel negative og positive"
   ]
  },
  {
   "cell_type": "code",
   "execution_count": null,
   "id": "a2564b8a-82d5-4f10-a6ba-fdc791b7fbb1",
   "metadata": {},
   "outputs": [],
   "source": []
  }
 ],
 "metadata": {
  "kernelspec": {
   "display_name": "Python 3 (ipykernel)",
   "language": "python",
   "name": "python3"
  },
  "language_info": {
   "codemirror_mode": {
    "name": "ipython",
    "version": 3
   },
   "file_extension": ".py",
   "mimetype": "text/x-python",
   "name": "python",
   "nbconvert_exporter": "python",
   "pygments_lexer": "ipython3",
   "version": "3.12.4"
  }
 },
 "nbformat": 4,
 "nbformat_minor": 5
}
